{
 "cells": [
  {
   "cell_type": "code",
   "execution_count": 57,
   "metadata": {},
   "outputs": [],
   "source": [
    "from urllib.request import urlopen as uReq\n",
    "from bs4 import BeautifulSoup as soup\n",
    "\n",
    "my_url = 'https://www.newegg.com/p/pl?d=video+graphics+card'\n",
    "# open connection and grab the page\n",
    "uClient = uReq(my_url)\n",
    "page_html = uClient.read()\n",
    "uClient.close()"
   ]
  },
  {
   "cell_type": "code",
   "execution_count": 61,
   "metadata": {},
   "outputs": [],
   "source": [
    "#parsing html\n",
    "page_soup = soup(page_html, \"html.parser\")\n",
    "# grab each item\n",
    "items = page_soup.findAll(\"div\",{\"class\":\"item-container\"})\n",
    "\n",
    "filename = \"products.csv\"\n",
    "f = open(filename, \"w\")\n",
    "headers = \"brand, product_name, shipping \\n\"\n",
    "f.write(headers)\n",
    "\n",
    "\n",
    "for item in items:\n",
    "    if(item.div.div.a.img != None):\n",
    "        brand = item.div.div.a.img[\"title\"]\n",
    "        product_name = item.findAll(\"a\", {\"class\", \"item-title\"})[0].text.strip()\n",
    "        price_ship = item.findAll(\"li\", {\"class\":\"price-ship\"})[0].text.strip()\n",
    "        \n",
    "        f.write(brand+\",\"+product_name.replace(\",\",\" |\")+\",\"+price_ship+\"\\n\")\n",
    "        \n",
    "f.close()\n",
    "\n",
    "        \n"
   ]
  }
 ],
 "metadata": {
  "kernelspec": {
   "display_name": "Python 3",
   "language": "python",
   "name": "python3"
  },
  "language_info": {
   "codemirror_mode": {
    "name": "ipython",
    "version": 3
   },
   "file_extension": ".py",
   "mimetype": "text/x-python",
   "name": "python",
   "nbconvert_exporter": "python",
   "pygments_lexer": "ipython3",
   "version": "3.7.3"
  }
 },
 "nbformat": 4,
 "nbformat_minor": 2
}
